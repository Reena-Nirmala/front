{
 "cells": [
  {
   "cell_type": "code",
   "execution_count": 1,
   "id": "59620f2e-5a1f-400e-b6e7-868655fe9666",
   "metadata": {},
   "outputs": [
    {
     "name": "stdout",
     "output_type": "stream",
     "text": [
      "Collecting pyttsx3Note: you may need to restart the kernel to use updated packages.\n",
      "\n",
      "  Downloading pyttsx3-2.90-py3-none-any.whl (39 kB)\n",
      "Requirement already satisfied: pywin32 in c:\\users\\reena_savireddy\\anaconda3\\lib\\site-packages (from pyttsx3) (302)\n",
      "Collecting pypiwin32\n",
      "  Downloading pypiwin32-223-py3-none-any.whl (1.7 kB)\n",
      "Requirement already satisfied: comtypes in c:\\users\\reena_savireddy\\anaconda3\\lib\\site-packages (from pyttsx3) (1.1.10)\n",
      "Installing collected packages: pypiwin32, pyttsx3\n",
      "Successfully installed pypiwin32-223 pyttsx3-2.90\n"
     ]
    }
   ],
   "source": [
    "pip install pyttsx3"
   ]
  },
  {
   "cell_type": "code",
   "execution_count": 2,
   "id": "71195301-d57d-4a03-99be-23a14d97fa31",
   "metadata": {},
   "outputs": [
    {
     "name": "stdout",
     "output_type": "stream",
     "text": [
      "Collecting PyPDF2\n",
      "  Downloading pypdf2-3.0.1-py3-none-any.whl (232 kB)\n",
      "     -------------------------------------- 232.6/232.6 kB 1.0 MB/s eta 0:00:00\n",
      "Requirement already satisfied: typing_extensions>=3.10.0.0 in c:\\users\\reena_savireddy\\anaconda3\\lib\\site-packages (from PyPDF2) (4.3.0)\n",
      "Installing collected packages: PyPDF2\n",
      "Successfully installed PyPDF2-3.0.1\n",
      "Note: you may need to restart the kernel to use updated packages.\n"
     ]
    }
   ],
   "source": [
    "pip install PyPDF2\n"
   ]
  },
  {
   "cell_type": "code",
   "execution_count": 4,
   "id": "32ff4963-0b0f-4456-bcc8-90400131372e",
   "metadata": {},
   "outputs": [
    {
     "name": "stdout",
     "output_type": "stream",
     "text": [
      "Collecting language_tool_python\n",
      "  Downloading language_tool_python-2.7.1-py3-none-any.whl (34 kB)\n",
      "Requirement already satisfied: requests in c:\\users\\reena_savireddy\\anaconda3\\lib\\site-packages (from language_tool_python) (2.28.1)\n",
      "Requirement already satisfied: tqdm in c:\\users\\reena_savireddy\\anaconda3\\lib\\site-packages (from language_tool_python) (4.64.1)\n",
      "Requirement already satisfied: idna<4,>=2.5 in c:\\users\\reena_savireddy\\anaconda3\\lib\\site-packages (from requests->language_tool_python) (3.3)\n",
      "Requirement already satisfied: urllib3<1.27,>=1.21.1 in c:\\users\\reena_savireddy\\anaconda3\\lib\\site-packages (from requests->language_tool_python) (1.26.11)\n",
      "Requirement already satisfied: charset-normalizer<3,>=2 in c:\\users\\reena_savireddy\\anaconda3\\lib\\site-packages (from requests->language_tool_python) (2.0.4)\n",
      "Requirement already satisfied: certifi>=2017.4.17 in c:\\users\\reena_savireddy\\anaconda3\\lib\\site-packages (from requests->language_tool_python) (2022.9.14)\n",
      "Requirement already satisfied: colorama in c:\\users\\reena_savireddy\\anaconda3\\lib\\site-packages (from tqdm->language_tool_python) (0.4.5)\n",
      "Installing collected packages: language_tool_python\n",
      "Successfully installed language_tool_python-2.7.1\n",
      "Note: you may need to restart the kernel to use updated packages.\n"
     ]
    }
   ],
   "source": [
    "pip install language_tool_python"
   ]
  },
  {
   "cell_type": "code",
   "execution_count": 5,
   "id": "199c6c31-caa7-4928-a4b6-8ec1bb5afd94",
   "metadata": {},
   "outputs": [
    {
     "name": "stdout",
     "output_type": "stream",
     "text": [
      "Collecting transformers\n",
      "  Downloading transformers-4.35.2-py3-none-any.whl (7.9 MB)\n",
      "     ---------------------------------------- 7.9/7.9 MB 9.9 MB/s eta 0:00:00\n",
      "Requirement already satisfied: packaging>=20.0 in c:\\users\\reena_savireddy\\anaconda3\\lib\\site-packages (from transformers) (21.3)\n",
      "Requirement already satisfied: filelock in c:\\users\\reena_savireddy\\anaconda3\\lib\\site-packages (from transformers) (3.6.0)\n",
      "Requirement already satisfied: pyyaml>=5.1 in c:\\users\\reena_savireddy\\anaconda3\\lib\\site-packages (from transformers) (6.0)\n",
      "Collecting tokenizers<0.19,>=0.14\n",
      "  Downloading tokenizers-0.15.0-cp39-none-win_amd64.whl (2.2 MB)\n",
      "     ---------------------------------------- 2.2/2.2 MB 11.7 MB/s eta 0:00:00\n",
      "Collecting huggingface-hub<1.0,>=0.16.4\n",
      "  Downloading huggingface_hub-0.19.4-py3-none-any.whl (311 kB)\n",
      "     -------------------------------------- 311.7/311.7 kB 1.9 MB/s eta 0:00:00\n",
      "Requirement already satisfied: tqdm>=4.27 in c:\\users\\reena_savireddy\\anaconda3\\lib\\site-packages (from transformers) (4.64.1)\n",
      "Collecting safetensors>=0.3.1\n",
      "  Downloading safetensors-0.4.0-cp39-none-win_amd64.whl (277 kB)\n",
      "     ------------------------------------ 277.2/277.2 kB 682.8 kB/s eta 0:00:00\n",
      "Requirement already satisfied: regex!=2019.12.17 in c:\\users\\reena_savireddy\\anaconda3\\lib\\site-packages (from transformers) (2022.7.9)\n",
      "Requirement already satisfied: numpy>=1.17 in c:\\users\\reena_savireddy\\anaconda3\\lib\\site-packages (from transformers) (1.21.5)\n",
      "Requirement already satisfied: requests in c:\\users\\reena_savireddy\\anaconda3\\lib\\site-packages (from transformers) (2.28.1)\n",
      "Requirement already satisfied: typing-extensions>=3.7.4.3 in c:\\users\\reena_savireddy\\anaconda3\\lib\\site-packages (from huggingface-hub<1.0,>=0.16.4->transformers) (4.3.0)\n",
      "Collecting fsspec>=2023.5.0\n",
      "  Downloading fsspec-2023.10.0-py3-none-any.whl (166 kB)\n",
      "     -------------------------------------- 166.4/166.4 kB 2.0 MB/s eta 0:00:00\n",
      "Requirement already satisfied: pyparsing!=3.0.5,>=2.0.2 in c:\\users\\reena_savireddy\\anaconda3\\lib\\site-packages (from packaging>=20.0->transformers) (3.0.9)\n",
      "Requirement already satisfied: colorama in c:\\users\\reena_savireddy\\anaconda3\\lib\\site-packages (from tqdm>=4.27->transformers) (0.4.5)\n",
      "Requirement already satisfied: charset-normalizer<3,>=2 in c:\\users\\reena_savireddy\\anaconda3\\lib\\site-packages (from requests->transformers) (2.0.4)\n",
      "Requirement already satisfied: urllib3<1.27,>=1.21.1 in c:\\users\\reena_savireddy\\anaconda3\\lib\\site-packages (from requests->transformers) (1.26.11)\n",
      "Requirement already satisfied: idna<4,>=2.5 in c:\\users\\reena_savireddy\\anaconda3\\lib\\site-packages (from requests->transformers) (3.3)\n",
      "Requirement already satisfied: certifi>=2017.4.17 in c:\\users\\reena_savireddy\\anaconda3\\lib\\site-packages (from requests->transformers) (2022.9.14)\n",
      "Installing collected packages: safetensors, fsspec, huggingface-hub, tokenizers, transformers\n",
      "  Attempting uninstall: fsspec\n",
      "    Found existing installation: fsspec 2022.7.1\n",
      "    Uninstalling fsspec-2022.7.1:\n",
      "      Successfully uninstalled fsspec-2022.7.1\n",
      "Successfully installed fsspec-2023.10.0 huggingface-hub-0.19.4 safetensors-0.4.0 tokenizers-0.15.0 transformers-4.35.2\n",
      "Note: you may need to restart the kernel to use updated packages.\n"
     ]
    }
   ],
   "source": [
    "pip install transformers"
   ]
  },
  {
   "cell_type": "code",
   "execution_count": 6,
   "id": "6386ad00-1682-429c-b8b0-c10ff795ee07",
   "metadata": {},
   "outputs": [
    {
     "name": "stdout",
     "output_type": "stream",
     "text": [
      "Collecting pymongo\n",
      "  Downloading pymongo-4.6.0-cp39-cp39-win_amd64.whl (472 kB)\n",
      "     -------------------------------------- 472.7/472.7 kB 1.0 MB/s eta 0:00:00\n",
      "Collecting dnspython<3.0.0,>=1.16.0\n",
      "  Downloading dnspython-2.4.2-py3-none-any.whl (300 kB)\n",
      "     -------------------------------------- 300.4/300.4 kB 1.4 MB/s eta 0:00:00\n",
      "Installing collected packages: dnspython, pymongo\n",
      "Successfully installed dnspython-2.4.2 pymongo-4.6.0\n",
      "Note: you may need to restart the kernel to use updated packages.\n"
     ]
    }
   ],
   "source": [
    "pip install pymongo"
   ]
  },
  {
   "cell_type": "code",
   "execution_count": 9,
   "id": "97190987-077a-4807-9c9a-a3987c7ceb04",
   "metadata": {},
   "outputs": [
    {
     "name": "stdin",
     "output_type": "stream",
     "text": [
      "Enter the number of points:  4\n",
      "Enter x-coordinate for point 1:  -11\n",
      "Enter y-coordinate for point 1:  3\n",
      "Enter x-coordinate for point 2:  8\n",
      "Enter y-coordinate for point 2:  5\n",
      "Enter x-coordinate for point 3:  -3\n",
      "Enter y-coordinate for point 3:  2\n",
      "Enter x-coordinate for point 4:  9\n",
      "Enter y-coordinate for point 4:  17\n"
     ]
    },
    {
     "name": "stdout",
     "output_type": "stream",
     "text": [
      "Euclidean Distances: [19, 11, 19]\n",
      "Mode of Distances: 19\n"
     ]
    }
   ],
   "source": [
    "import math\n",
    "from collections import Counter\n",
    "\n",
    "def euclidean_distance(point1, point2):\n",
    "    return math.sqrt((point2[0] - point1[0]) ** 2 + (point2[1] - point1[1]) ** 2)\n",
    "\n",
    "def calculate_distances(coordinates):\n",
    "    distances = []\n",
    "    for i in range(len(coordinates) - 1):\n",
    "        distance = euclidean_distance(coordinates[i], coordinates[i + 1])\n",
    "        distances.append(int(distance))  # Taking the floor integer value of the result\n",
    "    return distances\n",
    "\n",
    "def find_mode(distance_list):\n",
    "    counter = Counter(distance_list)\n",
    "    modes = counter.most_common()\n",
    "    return modes[0][0]\n",
    "\n",
    "# Get input from the user\n",
    "n = int(input(\"enter number of cooordinates\"))\n",
    "num_points = int(input(\"Enter the number of points: \"))\n",
    "point_coordinates = []\n",
    "for i in range(num_points):\n",
    "    x = float(input(f\"Enter x-coordinate for point {i + 1}: \"))\n",
    "    y = float(input(f\"Enter y-coordinate for point {i + 1}: \"))\n",
    "    point_coordinates.append((x, y))\n",
    "\n",
    "# Calculate distances and find mode\n",
    "distances = calculate_distances(point_coordinates)\n",
    "mode_distance = find_mode(distances)\n",
    "\n",
    "# Display results\n",
    "print(\"Euclidean Distances:\", distances)\n",
    "print(\"Mode of Distances:\", mode_distance)\n"
   ]
  },
  {
   "cell_type": "code",
   "execution_count": 10,
   "id": "d7f1eed4-0330-4fd0-8d19-611630a2efbc",
   "metadata": {},
   "outputs": [
    {
     "name": "stdout",
     "output_type": "stream",
     "text": [
      "Collecting virtualenvwrapper-win\n",
      "  Downloading virtualenvwrapper_win-1.2.7-py3-none-any.whl (18 kB)\n",
      "Collecting virtualenv\n",
      "  Downloading virtualenv-20.24.7-py3-none-any.whl (3.8 MB)\n",
      "     ---------------------------------------- 3.8/3.8 MB 11.5 MB/s eta 0:00:00\n",
      "Collecting distlib<1,>=0.3.7\n",
      "  Downloading distlib-0.3.7-py2.py3-none-any.whl (468 kB)\n",
      "     ------------------------------------- 468.9/468.9 kB 10.0 MB/s eta 0:00:00\n",
      "Collecting platformdirs<5,>=3.9.1\n",
      "  Downloading platformdirs-4.0.0-py3-none-any.whl (17 kB)\n",
      "Collecting filelock<4,>=3.12.2\n",
      "  Downloading filelock-3.13.1-py3-none-any.whl (11 kB)\n",
      "Installing collected packages: distlib, platformdirs, filelock, virtualenv, virtualenvwrapper-win\n",
      "  Attempting uninstall: platformdirs\n",
      "    Found existing installation: platformdirs 2.5.2\n",
      "    Uninstalling platformdirs-2.5.2:\n",
      "      Successfully uninstalled platformdirs-2.5.2\n",
      "  Attempting uninstall: filelock\n",
      "    Found existing installation: filelock 3.6.0\n",
      "    Uninstalling filelock-3.6.0:\n",
      "      Successfully uninstalled filelock-3.6.0\n",
      "Successfully installed distlib-0.3.7 filelock-3.13.1 platformdirs-4.0.0 virtualenv-20.24.7 virtualenvwrapper-win-1.2.7\n",
      "Note: you may need to restart the kernel to use updated packages.\n"
     ]
    }
   ],
   "source": [
    "pip install virtualenvwrapper-win"
   ]
  },
  {
   "cell_type": "code",
   "execution_count": 3,
   "id": "9456549d-a773-47d7-956c-64016c7a50a2",
   "metadata": {},
   "outputs": [
    {
     "name": "stdout",
     "output_type": "stream",
     "text": [
      "Collecting django\n",
      "  Downloading Django-4.2.7-py3-none-any.whl (8.0 MB)\n",
      "     ---------------------------------------- 8.0/8.0 MB 15.0 MB/s eta 0:00:00\n",
      "Collecting sqlparse>=0.3.1\n",
      "  Downloading sqlparse-0.4.4-py3-none-any.whl (41 kB)\n",
      "     -------------------------------------- 41.2/41.2 kB 658.4 kB/s eta 0:00:00\n",
      "Collecting asgiref<4,>=3.6.0\n",
      "  Downloading asgiref-3.7.2-py3-none-any.whl (24 kB)\n",
      "Collecting tzdata\n",
      "  Using cached tzdata-2023.3-py2.py3-none-any.whl (341 kB)\n",
      "Requirement already satisfied: typing-extensions>=4 in c:\\users\\reena_savireddy\\anaconda3\\lib\\site-packages (from asgiref<4,>=3.6.0->django) (4.3.0)\n",
      "Installing collected packages: tzdata, sqlparse, asgiref, django\n",
      "Successfully installed asgiref-3.7.2 django-4.2.7 sqlparse-0.4.4 tzdata-2023.3\n",
      "Note: you may need to restart the kernel to use updated packages.\n"
     ]
    }
   ],
   "source": [
    "pip install django"
   ]
  },
  {
   "cell_type": "code",
   "execution_count": 3,
   "id": "f9344e3a-9fba-4e4c-b23c-7cc690e015c2",
   "metadata": {},
   "outputs": [],
   "source": [
    "import pyttsx3\n",
    " \n",
    "def text_to_speech(text):\n",
    "    engine = pyttsx3.init()\n",
    "    engine.say(text)\n",
    "    engine.runAndWait()\n",
    " \n",
    "# Replace 'Hello, how are you?' with the text you want to convert to speech\n",
    "text_to_convert = 'Hello, how are you?'\n",
    "text_to_speech(text_to_convert)"
   ]
  },
  {
   "cell_type": "code",
   "execution_count": 16,
   "id": "80cd1a80-2431-44c3-92d9-b103523e6e3b",
   "metadata": {},
   "outputs": [
    {
     "name": "stdout",
     "output_type": "stream",
     "text": [
      "Requirement already satisfied: language_tool_python in c:\\users\\reena_savireddy\\anaconda3\\lib\\site-packages (2.7.1)\n",
      "Requirement already satisfied: tqdm in c:\\users\\reena_savireddy\\anaconda3\\lib\\site-packages (from language_tool_python) (4.64.1)\n",
      "Requirement already satisfied: requests in c:\\users\\reena_savireddy\\anaconda3\\lib\\site-packages (from language_tool_python) (2.28.1)\n",
      "Requirement already satisfied: charset-normalizer<3,>=2 in c:\\users\\reena_savireddy\\anaconda3\\lib\\site-packages (from requests->language_tool_python) (2.0.4)\n",
      "Requirement already satisfied: certifi>=2017.4.17 in c:\\users\\reena_savireddy\\anaconda3\\lib\\site-packages (from requests->language_tool_python) (2022.9.14)\n",
      "Requirement already satisfied: urllib3<1.27,>=1.21.1 in c:\\users\\reena_savireddy\\anaconda3\\lib\\site-packages (from requests->language_tool_python) (1.26.11)\n",
      "Requirement already satisfied: idna<4,>=2.5 in c:\\users\\reena_savireddy\\anaconda3\\lib\\site-packages (from requests->language_tool_python) (3.3)\n",
      "Requirement already satisfied: colorama in c:\\users\\reena_savireddy\\anaconda3\\lib\\site-packages (from tqdm->language_tool_python) (0.4.5)\n",
      "Note: you may need to restart the kernel to use updated packages.\n"
     ]
    }
   ],
   "source": [
    "# pip install language_tool_python\n",
    "from language_tool_python import LanguageTool\n",
    " \n",
    "tool = LanguageTool('en-US')\n",
    "def grammar_check(text):\n",
    "    matches = tool.check(text)\n",
    "    return matches\n",
    " \n",
    "# text_check = \"Your sample text goes here.\"\n",
    "# match = grammar_check(text_check)\n",
    " \n",
    "# for match in matches:\n",
    "#     print(f\"Rule ID: {match.ruleId}, Replacements: {match.replacements}\")"
   ]
  },
  {
   "cell_type": "code",
   "execution_count": null,
   "id": "c8690e58-126c-4150-a51c-eab01af2129c",
   "metadata": {},
   "outputs": [],
   "source": []
  }
 ],
 "metadata": {
  "kernelspec": {
   "display_name": "Python 3 (ipykernel)",
   "language": "python",
   "name": "python3"
  },
  "language_info": {
   "codemirror_mode": {
    "name": "ipython",
    "version": 3
   },
   "file_extension": ".py",
   "mimetype": "text/x-python",
   "name": "python",
   "nbconvert_exporter": "python",
   "pygments_lexer": "ipython3",
   "version": "3.9.13"
  }
 },
 "nbformat": 4,
 "nbformat_minor": 5
}
